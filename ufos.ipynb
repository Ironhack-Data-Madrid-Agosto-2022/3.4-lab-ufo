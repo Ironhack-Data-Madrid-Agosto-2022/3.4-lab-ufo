{
 "cells": [
  {
   "cell_type": "markdown",
   "metadata": {},
   "source": [
    "# UFO Question \n",
    "\n",
    "Our data science team has predicted that the Earth is going to be invaded by an alien force in the\n",
    "next years. Our only hope is to replicate a device that can block all alien technology in a radius of\n",
    "~300km. Sadly, the device was sold in 2004 to an anonymous buyer to protect her hometown and\n",
    "we don't know how contact her again. We know that the device has been active since 2004 in one\n",
    "city in the USA, and we want to know where to start our search.\n",
    "We've included a dataset called ​ufo.csv​. This dataset contains over 80,000 reports of UFO sightings\n",
    "over the last century (all of them verified by the ESA). Using this dataset, try to guess the city in\n",
    "which the device has been hidden.\n"
   ]
  },
  {
   "cell_type": "code",
   "execution_count": 61,
   "metadata": {},
   "outputs": [],
   "source": [
    "# Import libraries\n",
    "\n",
    "#%pip install folium \n",
    "#conda install -c conda-forge folium\n",
    "import folium\n",
    "\n",
    "import folium.plugins\n",
    "\n",
    "import pandas as pd\n",
    "import numpy as np"
   ]
  },
  {
   "cell_type": "code",
   "execution_count": 5,
   "metadata": {},
   "outputs": [],
   "source": [
    "# Import data\n",
    "\n",
    "data = pd.read_csv('./ufo.csv')"
   ]
  },
  {
   "cell_type": "code",
   "execution_count": 6,
   "metadata": {},
   "outputs": [
    {
     "data": {
      "text/html": [
       "<div>\n",
       "<style scoped>\n",
       "    .dataframe tbody tr th:only-of-type {\n",
       "        vertical-align: middle;\n",
       "    }\n",
       "\n",
       "    .dataframe tbody tr th {\n",
       "        vertical-align: top;\n",
       "    }\n",
       "\n",
       "    .dataframe thead th {\n",
       "        text-align: right;\n",
       "    }\n",
       "</style>\n",
       "<table border=\"1\" class=\"dataframe\">\n",
       "  <thead>\n",
       "    <tr style=\"text-align: right;\">\n",
       "      <th></th>\n",
       "      <th>Unnamed: 0</th>\n",
       "      <th>datetime</th>\n",
       "      <th>city</th>\n",
       "      <th>state</th>\n",
       "      <th>country</th>\n",
       "      <th>shape</th>\n",
       "      <th>duration</th>\n",
       "      <th>total_time</th>\n",
       "      <th>comments</th>\n",
       "      <th>date_posted</th>\n",
       "      <th>latitude</th>\n",
       "      <th>longitude</th>\n",
       "      <th>year</th>\n",
       "      <th>distance</th>\n",
       "    </tr>\n",
       "  </thead>\n",
       "  <tbody>\n",
       "    <tr>\n",
       "      <th>0</th>\n",
       "      <td>0</td>\n",
       "      <td>10/10/1949 20:30</td>\n",
       "      <td>san marcos</td>\n",
       "      <td>tx</td>\n",
       "      <td>us</td>\n",
       "      <td>cylinder</td>\n",
       "      <td>2700.0</td>\n",
       "      <td>45 minutes</td>\n",
       "      <td>This event took place in early fall around 194...</td>\n",
       "      <td>4/27/2004</td>\n",
       "      <td>29.883056</td>\n",
       "      <td>-97.941111</td>\n",
       "      <td>2004</td>\n",
       "      <td>1242.667772</td>\n",
       "    </tr>\n",
       "    <tr>\n",
       "      <th>1</th>\n",
       "      <td>1</td>\n",
       "      <td>10/10/1949 21:00</td>\n",
       "      <td>lackland afb</td>\n",
       "      <td>tx</td>\n",
       "      <td>NaN</td>\n",
       "      <td>light</td>\n",
       "      <td>7200.0</td>\n",
       "      <td>1-2 hrs</td>\n",
       "      <td>1949 Lackland AFB&amp;#44 TX.  Lights racing acros...</td>\n",
       "      <td>12/16/2005</td>\n",
       "      <td>29.384210</td>\n",
       "      <td>-98.581082</td>\n",
       "      <td>2005</td>\n",
       "      <td>1325.486319</td>\n",
       "    </tr>\n",
       "    <tr>\n",
       "      <th>2</th>\n",
       "      <td>2</td>\n",
       "      <td>10/10/1955 17:00</td>\n",
       "      <td>chester (uk/england)</td>\n",
       "      <td>NaN</td>\n",
       "      <td>gb</td>\n",
       "      <td>circle</td>\n",
       "      <td>20.0</td>\n",
       "      <td>20 seconds</td>\n",
       "      <td>Green/Orange circular disc over Chester&amp;#44 En...</td>\n",
       "      <td>1/21/2008</td>\n",
       "      <td>53.200000</td>\n",
       "      <td>-2.916667</td>\n",
       "      <td>2008</td>\n",
       "      <td>6515.416577</td>\n",
       "    </tr>\n",
       "    <tr>\n",
       "      <th>3</th>\n",
       "      <td>3</td>\n",
       "      <td>10/10/1956 21:00</td>\n",
       "      <td>edna</td>\n",
       "      <td>tx</td>\n",
       "      <td>us</td>\n",
       "      <td>circle</td>\n",
       "      <td>20.0</td>\n",
       "      <td>1/2 hour</td>\n",
       "      <td>My older brother and twin sister were leaving ...</td>\n",
       "      <td>1/17/2004</td>\n",
       "      <td>28.978333</td>\n",
       "      <td>-96.645833</td>\n",
       "      <td>2004</td>\n",
       "      <td>1211.971352</td>\n",
       "    </tr>\n",
       "    <tr>\n",
       "      <th>4</th>\n",
       "      <td>4</td>\n",
       "      <td>10/10/1960 20:00</td>\n",
       "      <td>kaneohe</td>\n",
       "      <td>hi</td>\n",
       "      <td>us</td>\n",
       "      <td>light</td>\n",
       "      <td>900.0</td>\n",
       "      <td>15 minutes</td>\n",
       "      <td>AS a Marine 1st Lt. flying an FJ4B fighter/att...</td>\n",
       "      <td>1/22/2004</td>\n",
       "      <td>21.418056</td>\n",
       "      <td>-157.803611</td>\n",
       "      <td>2004</td>\n",
       "      <td>6960.923396</td>\n",
       "    </tr>\n",
       "  </tbody>\n",
       "</table>\n",
       "</div>"
      ],
      "text/plain": [
       "   Unnamed: 0          datetime                  city state country     shape  \\\n",
       "0           0  10/10/1949 20:30            san marcos    tx      us  cylinder   \n",
       "1           1  10/10/1949 21:00          lackland afb    tx     NaN     light   \n",
       "2           2  10/10/1955 17:00  chester (uk/england)   NaN      gb    circle   \n",
       "3           3  10/10/1956 21:00                  edna    tx      us    circle   \n",
       "4           4  10/10/1960 20:00               kaneohe    hi      us     light   \n",
       "\n",
       "   duration  total_time                                           comments  \\\n",
       "0    2700.0  45 minutes  This event took place in early fall around 194...   \n",
       "1    7200.0     1-2 hrs  1949 Lackland AFB&#44 TX.  Lights racing acros...   \n",
       "2      20.0  20 seconds  Green/Orange circular disc over Chester&#44 En...   \n",
       "3      20.0    1/2 hour  My older brother and twin sister were leaving ...   \n",
       "4     900.0  15 minutes  AS a Marine 1st Lt. flying an FJ4B fighter/att...   \n",
       "\n",
       "  date_posted   latitude   longitude  year     distance  \n",
       "0   4/27/2004  29.883056  -97.941111  2004  1242.667772  \n",
       "1  12/16/2005  29.384210  -98.581082  2005  1325.486319  \n",
       "2   1/21/2008  53.200000   -2.916667  2008  6515.416577  \n",
       "3   1/17/2004  28.978333  -96.645833  2004  1211.971352  \n",
       "4   1/22/2004  21.418056 -157.803611  2004  6960.923396  "
      ]
     },
     "execution_count": 6,
     "metadata": {},
     "output_type": "execute_result"
    }
   ],
   "source": [
    "# Select data\n",
    "\n",
    "data.head()"
   ]
  },
  {
   "cell_type": "code",
   "execution_count": 91,
   "metadata": {},
   "outputs": [
    {
     "data": {
      "text/plain": [
       "72828"
      ]
     },
     "execution_count": 91,
     "metadata": {},
     "output_type": "execute_result"
    }
   ],
   "source": [
    "ufo=data[['country', 'latitude', 'longitude']]\n",
    "\n",
    "ufo.head()\n",
    "\n",
    "#ufo.info()\n",
    "\n",
    "#usa_index=ufo.loc[((ufo.longitude>(-130)) & (ufo.longitude<(-60)) & (ufo.latitude>20) & (ufo.latitude<50))].index\n",
    "\n",
    "usa_index=ufo.loc[((ufo.longitude>(-180)) & (ufo.longitude<(-50)) & (ufo.latitude>20) )].index\n",
    "\n",
    "len(usa_index)"
   ]
  },
  {
   "cell_type": "code",
   "execution_count": 50,
   "metadata": {},
   "outputs": [
    {
     "data": {
      "text/plain": [
       "78509"
      ]
     },
     "execution_count": 50,
     "metadata": {},
     "output_type": "execute_result"
    }
   ],
   "source": [
    "len(data)"
   ]
  },
  {
   "cell_type": "code",
   "execution_count": 15,
   "metadata": {},
   "outputs": [
    {
     "data": {
      "text/plain": [
       "Unnamed: 0        0\n",
       "datetime          0\n",
       "city              0\n",
       "state          5795\n",
       "country        9562\n",
       "shape          1910\n",
       "duration          0\n",
       "total_time        0\n",
       "comments         14\n",
       "date_posted       0\n",
       "latitude          0\n",
       "longitude         0\n",
       "year              0\n",
       "distance          0\n",
       "dtype: int64"
      ]
     },
     "execution_count": 15,
     "metadata": {},
     "output_type": "execute_result"
    }
   ],
   "source": [
    "na_columns=data.isnull().sum()\n",
    "\n",
    "na_columns"
   ]
  },
  {
   "cell_type": "code",
   "execution_count": 20,
   "metadata": {},
   "outputs": [
    {
     "data": {
      "text/plain": [
       "-97.9411111"
      ]
     },
     "execution_count": 20,
     "metadata": {},
     "output_type": "execute_result"
    }
   ],
   "source": [
    "ufo.iloc[0,2]"
   ]
  },
  {
   "cell_type": "code",
   "execution_count": 35,
   "metadata": {},
   "outputs": [],
   "source": [
    "# Find the city\n",
    "\n",
    "#folium.Map(location=[ufo.iloc[0,1],ufo.iloc[0,2]])\n"
   ]
  },
  {
   "cell_type": "code",
   "execution_count": 54,
   "metadata": {},
   "outputs": [
    {
     "data": {
      "text/plain": [
       "151.205475"
      ]
     },
     "execution_count": 54,
     "metadata": {},
     "output_type": "execute_result"
    }
   ],
   "source": [
    "ufo.iloc[i,2]\n"
   ]
  },
  {
   "cell_type": "code",
   "execution_count": 2,
   "metadata": {},
   "outputs": [
    {
     "ename": "NameError",
     "evalue": "name 'folium' is not defined",
     "output_type": "error",
     "traceback": [
      "\u001b[1;31m---------------------------------------------------------------------------\u001b[0m",
      "\u001b[1;31mNameError\u001b[0m                                 Traceback (most recent call last)",
      "\u001b[1;32mc:\\Users\\David MC\\Desktop\\Ironhack\\3.4-lab-ufo\\ufos.ipynb Celda 11\u001b[0m in \u001b[0;36m<cell line: 1>\u001b[1;34m()\u001b[0m\n\u001b[1;32m----> <a href='vscode-notebook-cell:/c%3A/Users/David%20MC/Desktop/Ironhack/3.4-lab-ufo/ufos.ipynb#X13sZmlsZQ%3D%3D?line=0'>1</a>\u001b[0m m \u001b[39m=\u001b[39m folium\u001b[39m.\u001b[39mMap(location\u001b[39m=\u001b[39m[ufo\u001b[39m.\u001b[39miloc[\u001b[39m1\u001b[39m,\u001b[39m1\u001b[39m]\u001b[39m+\u001b[39m\u001b[39m20\u001b[39m,ufo\u001b[39m.\u001b[39miloc[\u001b[39m1\u001b[39m,\u001b[39m2\u001b[39m]],tiles\u001b[39m=\u001b[39m\u001b[39m\"\u001b[39m\u001b[39mStamen Toner\u001b[39m\u001b[39m\"\u001b[39m, width\u001b[39m=\u001b[39m\u001b[39m\"\u001b[39m\u001b[39m%\u001b[39m\u001b[39m75\u001b[39m\u001b[39m\"\u001b[39m, height\u001b[39m=\u001b[39m\u001b[39m\"\u001b[39m\u001b[39m%\u001b[39m\u001b[39m75\u001b[39m\u001b[39m\"\u001b[39m, zoom_start\u001b[39m=\u001b[39m\u001b[39m2.5\u001b[39m)\n\u001b[0;32m      <a href='vscode-notebook-cell:/c%3A/Users/David%20MC/Desktop/Ironhack/3.4-lab-ufo/ufos.ipynb#X13sZmlsZQ%3D%3D?line=2'>3</a>\u001b[0m \u001b[39mfor\u001b[39;00m i \u001b[39min\u001b[39;00m usa_index:\n\u001b[0;32m      <a href='vscode-notebook-cell:/c%3A/Users/David%20MC/Desktop/Ironhack/3.4-lab-ufo/ufos.ipynb#X13sZmlsZQ%3D%3D?line=3'>4</a>\u001b[0m \n\u001b[0;32m      <a href='vscode-notebook-cell:/c%3A/Users/David%20MC/Desktop/Ironhack/3.4-lab-ufo/ufos.ipynb#X13sZmlsZQ%3D%3D?line=4'>5</a>\u001b[0m     \u001b[39m#m = folium.Map(location=[ufo.iloc[i,1],ufo.iloc[i,2]],tiles=\"Stamen Toner\", width=\"%100\", height=\"%100\", zoom_start=10)\u001b[39;00m\n\u001b[0;32m      <a href='vscode-notebook-cell:/c%3A/Users/David%20MC/Desktop/Ironhack/3.4-lab-ufo/ufos.ipynb#X13sZmlsZQ%3D%3D?line=6'>7</a>\u001b[0m     folium\u001b[39m.\u001b[39mCircle( radius\u001b[39m=\u001b[39m\u001b[39m300000\u001b[39m, location\u001b[39m=\u001b[39m[ufo\u001b[39m.\u001b[39miloc[i,\u001b[39m1\u001b[39m],ufo\u001b[39m.\u001b[39miloc[i,\u001b[39m2\u001b[39m]], color\u001b[39m=\u001b[39m\u001b[39m'\u001b[39m\u001b[39mcrimson\u001b[39m\u001b[39m'\u001b[39m, fill\u001b[39m=\u001b[39m\u001b[39mTrue\u001b[39;00m,)\u001b[39m.\u001b[39madd_to(m)\n",
      "\u001b[1;31mNameError\u001b[0m: name 'folium' is not defined"
     ]
    }
   ],
   "source": [
    "m = folium.Map(location=[ufo.iloc[1,1]+20,ufo.iloc[1,2]],tiles=\"Stamen Toner\", width=\"%75\", height=\"%75\", zoom_start=2.5)\n",
    "\n",
    "for i in usa_index:\n",
    "\n",
    "    #m = folium.Map(location=[ufo.iloc[i,1],ufo.iloc[i,2]],tiles=\"Stamen Toner\", width=\"%100\", height=\"%100\", zoom_start=10)\n",
    "\n",
    "    folium.Circle( radius=300000, location=[ufo.iloc[i,1],ufo.iloc[i,2]], color='crimson', fill=True,).add_to(m)\n",
    "\n",
    "m"
   ]
  },
  {
   "cell_type": "code",
   "execution_count": 3,
   "metadata": {},
   "outputs": [
    {
     "ename": "NameError",
     "evalue": "name 'folium' is not defined",
     "output_type": "error",
     "traceback": [
      "\u001b[1;31m---------------------------------------------------------------------------\u001b[0m",
      "\u001b[1;31mNameError\u001b[0m                                 Traceback (most recent call last)",
      "\u001b[1;32mc:\\Users\\David MC\\Desktop\\Ironhack\\3.4-lab-ufo\\ufos.ipynb Celda 12\u001b[0m in \u001b[0;36m<cell line: 1>\u001b[1;34m()\u001b[0m\n\u001b[1;32m----> <a href='vscode-notebook-cell:/c%3A/Users/David%20MC/Desktop/Ironhack/3.4-lab-ufo/ufos.ipynb#X14sZmlsZQ%3D%3D?line=0'>1</a>\u001b[0m m \u001b[39m=\u001b[39m folium\u001b[39m.\u001b[39mMap(location\u001b[39m=\u001b[39m[ufo\u001b[39m.\u001b[39miloc[\u001b[39m1\u001b[39m,\u001b[39m1\u001b[39m]\u001b[39m+\u001b[39m\u001b[39m20\u001b[39m,ufo\u001b[39m.\u001b[39miloc[\u001b[39m1\u001b[39m,\u001b[39m2\u001b[39m]],tiles\u001b[39m=\u001b[39m\u001b[39m\"\u001b[39m\u001b[39mStamen Toner\u001b[39m\u001b[39m\"\u001b[39m, width\u001b[39m=\u001b[39m\u001b[39m\"\u001b[39m\u001b[39m%\u001b[39m\u001b[39m75\u001b[39m\u001b[39m\"\u001b[39m, height\u001b[39m=\u001b[39m\u001b[39m\"\u001b[39m\u001b[39m%\u001b[39m\u001b[39m75\u001b[39m\u001b[39m\"\u001b[39m, zoom_start\u001b[39m=\u001b[39m\u001b[39m2.5\u001b[39m)\n\u001b[0;32m      <a href='vscode-notebook-cell:/c%3A/Users/David%20MC/Desktop/Ironhack/3.4-lab-ufo/ufos.ipynb#X14sZmlsZQ%3D%3D?line=2'>3</a>\u001b[0m ufo\u001b[39m.\u001b[39mlatitude\u001b[39m=\u001b[39mufo\u001b[39m.\u001b[39mlatitude\u001b[39m.\u001b[39mastype(\u001b[39mfloat\u001b[39m)\n\u001b[0;32m      <a href='vscode-notebook-cell:/c%3A/Users/David%20MC/Desktop/Ironhack/3.4-lab-ufo/ufos.ipynb#X14sZmlsZQ%3D%3D?line=3'>4</a>\u001b[0m ufo\u001b[39m.\u001b[39mlongitude\u001b[39m=\u001b[39mufo\u001b[39m.\u001b[39mlongitude\u001b[39m.\u001b[39mastype(\u001b[39mfloat\u001b[39m)\n",
      "\u001b[1;31mNameError\u001b[0m: name 'folium' is not defined"
     ]
    }
   ],
   "source": [
    "m = folium.Map(location=[ufo.iloc[1,1]+20,ufo.iloc[1,2]],tiles=\"Stamen Toner\", width=\"%75\", height=\"%75\", zoom_start=2.5)\n",
    "\n",
    "ufo.latitude=ufo.latitude.astype(float)\n",
    "ufo.longitude=ufo.longitude.astype(float)\n",
    "heat_ufo=ufo[[\"latitude\",\"longitude\"]]\n",
    "heat_data=list(zip(ufo.latitude, ufo.longitude))\n",
    "folium.plugins.HeatMap(heat_data, radius=30, max_zoom=100).add_to(m)\n",
    "m"
   ]
  }
 ],
 "metadata": {
  "kernelspec": {
   "display_name": "Python 3.10.4 ('Ironhack')",
   "language": "python",
   "name": "python3"
  },
  "language_info": {
   "codemirror_mode": {
    "name": "ipython",
    "version": 3
   },
   "file_extension": ".py",
   "mimetype": "text/x-python",
   "name": "python",
   "nbconvert_exporter": "python",
   "pygments_lexer": "ipython3",
   "version": "3.10.4"
  },
  "vscode": {
   "interpreter": {
    "hash": "e1b5cc2ca82549cf8bbdcbea1bc7bb57ea15a02dc60f2ae6fb07bfbe7cef552e"
   }
  }
 },
 "nbformat": 4,
 "nbformat_minor": 2
}
